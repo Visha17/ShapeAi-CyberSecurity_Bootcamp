{
 "cells": [
  {
   "cell_type": "code",
   "execution_count": 4,
   "id": "620479fe",
   "metadata": {},
   "outputs": [],
   "source": [
    "import requests\n",
    "\n",
    "r = requests.get('https://imgs.xkcd.com/comics/python.png')\n",
    "\n",
    "with open('comic.png','wb') as file:\n",
    "  file.write(r.content)"
   ]
  },
  {
   "cell_type": "code",
   "execution_count": 6,
   "id": "35663cba",
   "metadata": {},
   "outputs": [
    {
     "name": "stdout",
     "output_type": "stream",
     "text": [
      "Enter the city name: madurai\n",
      "------------------------****************-------------------------------------\n",
      "Weather Stats for - MADURAI  || 29 Jul 2021 | 03:26:30 PM\n",
      "------------------------****************-------------------------------------\n",
      "Current temperature is: 39.01 deg C\n",
      "Current weather desc  : few clouds\n",
      "Current Humidity      : 32 %\n",
      "Current wind speed    : 6.17 kmph\n"
     ]
    }
   ],
   "source": [
    "import requests\n",
    "#import os\n",
    "from datetime import datetime\n",
    "\n",
    "api_key = 'd24fd73904bede9dd81a6bb4956c77b1'\n",
    "location = input(\"Enter the city name: \")\n",
    "\n",
    "complete_api_link = \"https://api.openweathermap.org/data/2.5/weather?q=\"+location+\"&appid=\"+api_key\n",
    "api_link = requests.get(complete_api_link)\n",
    "api_data = api_link.json()\n",
    "\n",
    "#create variables to store and display data\n",
    "temp_city = ((api_data['main']['temp']) - 273.15)\n",
    "weather_desc = api_data['weather'][0]['description']\n",
    "humidity = api_data['main']['humidity']\n",
    "wind_speed = api_data['wind']['speed']\n",
    "date_time = datetime.now().strftime(\"%d %b %Y | %I:%M:%S %p\")\n",
    "\n",
    "print (\"------------------------****************-------------------------------------\")\n",
    "print (\"Weather Stats for - {}  || {}\".format(location.upper(), date_time))\n",
    "print (\"------------------------****************-------------------------------------\")\n",
    "\n",
    "print (\"Current temperature is: {:.2f} deg C\".format(temp_city))\n",
    "print (\"Current weather desc  :\",weather_desc)\n",
    "print (\"Current Humidity      :\",humidity, '%')\n",
    "print (\"Current wind speed    :\",wind_speed ,'kmph')"
   ]
  },
  {
   "cell_type": "code",
   "execution_count": null,
   "id": "f936d1c2",
   "metadata": {},
   "outputs": [],
   "source": []
  }
 ],
 "metadata": {
  "kernelspec": {
   "display_name": "Python 3",
   "language": "python",
   "name": "python3"
  },
  "language_info": {
   "codemirror_mode": {
    "name": "ipython",
    "version": 3
   },
   "file_extension": ".py",
   "mimetype": "text/x-python",
   "name": "python",
   "nbconvert_exporter": "python",
   "pygments_lexer": "ipython3",
   "version": "3.8.8"
  }
 },
 "nbformat": 4,
 "nbformat_minor": 5
}
